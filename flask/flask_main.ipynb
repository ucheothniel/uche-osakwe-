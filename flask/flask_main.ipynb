{
 "cells": [
  {
   "cell_type": "code",
   "execution_count": 5,
   "metadata": {},
   "outputs": [
    {
     "ename": "NameError",
     "evalue": "name 'init' is not defined",
     "output_type": "error",
     "traceback": [
      "\u001b[1;31m---------------------------------------------------------------------------\u001b[0m",
      "\u001b[1;31mNameError\u001b[0m                                 Traceback (most recent call last)",
      "\u001b[1;32m<ipython-input-5-9b6356811768>\u001b[0m in \u001b[0;36m<module>\u001b[1;34m\u001b[0m\n\u001b[0;32m     12\u001b[0m \u001b[1;33m\u001b[0m\u001b[0m\n\u001b[0;32m     13\u001b[0m \u001b[1;32mglobal\u001b[0m \u001b[0mmodel\u001b[0m\u001b[1;33m,\u001b[0m \u001b[0mgraph\u001b[0m\u001b[1;33m\u001b[0m\u001b[1;33m\u001b[0m\u001b[0m\n\u001b[1;32m---> 14\u001b[1;33m \u001b[0mmodel\u001b[0m\u001b[1;33m,\u001b[0m \u001b[0mgraph\u001b[0m \u001b[1;33m=\u001b[0m \u001b[0minit\u001b[0m\u001b[1;33m(\u001b[0m\u001b[1;33m)\u001b[0m\u001b[1;33m\u001b[0m\u001b[1;33m\u001b[0m\u001b[0m\n\u001b[0m\u001b[0;32m     15\u001b[0m \u001b[1;33m\u001b[0m\u001b[0m\n\u001b[0;32m     16\u001b[0m \u001b[1;33m@\u001b[0m\u001b[0mapp\u001b[0m\u001b[1;33m.\u001b[0m\u001b[0mroute\u001b[0m\u001b[1;33m(\u001b[0m\u001b[1;34m'/'\u001b[0m\u001b[1;33m)\u001b[0m\u001b[1;33m\u001b[0m\u001b[1;33m\u001b[0m\u001b[0m\n",
      "\u001b[1;31mNameError\u001b[0m: name 'init' is not defined"
     ]
    }
   ],
   "source": [
    "from flask import Flask, request, url_for,render_template,jsonify,send_file\n",
    "import numpy as np\n",
    "import keras.models\n",
    "import re \n",
    "import sys\n",
    "import os\n",
    "\n",
    "sys.path.append(os.path.abspath('./models')) \n",
    "#from load import *\n",
    "\n",
    "app = Flask(__name__)\n",
    "\n",
    "global model, graph\n",
    "model, graph = init()\n",
    "\n",
    "@app.route('/')\n",
    "def index():\n",
    "    return render_template('gui.html')\n",
    "\n",
    "@app.route('/input_page', methods=['POST', 'GET'])\n",
    "def input_page():\n",
    "    word = request.get_data()\n",
    "    \n",
    "    with graph.as_default():\n",
    "        output = model.predict(word)\n",
    "        return output\n",
    "        \n",
    "    #if request.method == 'POST':\n",
    "        \n",
    "    #return render_template('guinew.html')\n",
    "\n",
    "if __name__ == '__main__':\n",
    "    port = int(os.environ.get('PORT', 5000))\n",
    "    app.run(host='0.0.0.0', port=port)\n",
    "    "
   ]
  },
  {
   "cell_type": "markdown",
   "metadata": {},
   "source": [
    "\n",
    "\n",
    "@app.route('/')\n",
    "def index():\n",
    "    return render_template('gui.html')\n",
    "\n",
    "@app.route('/input_page', methods=['POST', 'GET'])\n",
    "def input_page():\n",
    "    if request.method == 'POST':\n",
    "        \n",
    "    return render_template('guinew.html')\n",
    "\n",
    "@app.route('/output_page', methods=['POST', 'GET'])\n",
    "def output_page():\n",
    "    return render_template('generated.html')\n",
    "\n",
    "\n",
    "\n",
    "if __name__ == \"__main__\":\n",
    "    app.run()"
   ]
  },
  {
   "cell_type": "code",
   "execution_count": null,
   "metadata": {},
   "outputs": [],
   "source": [
    "@app.route('/text_input', methods=['POST','GET'])\n",
    "def text_input():\n",
    "    if request.method == 'POST':\n",
    "        pass \n",
    "    return'''<form method=\"POST\">\n",
    "    Insert Any Word or Letter <input type=\"text\" name=\"Insert Any Word or Letter\">\n",
    "    <input type=\"submit\">\n",
    "    </form>'''"
   ]
  },
  {
   "cell_type": "code",
   "execution_count": null,
   "metadata": {},
   "outputs": [],
   "source": [
    "@app.route('/generated_lyrics')\n",
    "def generated_lyrics():\n",
    "    "
   ]
  }
 ],
 "metadata": {
  "kernelspec": {
   "display_name": "Python 3",
   "language": "python",
   "name": "python3"
  },
  "language_info": {
   "codemirror_mode": {
    "name": "ipython",
    "version": 3
   },
   "file_extension": ".py",
   "mimetype": "text/x-python",
   "name": "python",
   "nbconvert_exporter": "python",
   "pygments_lexer": "ipython3",
   "version": "3.7.6"
  }
 },
 "nbformat": 4,
 "nbformat_minor": 2
}
